{
 "cells": [
  {
   "cell_type": "code",
   "execution_count": 2,
   "metadata": {
    "scrolled": false
   },
   "outputs": [],
   "source": [
    "import pandas as pd\n",
    "import datetime"
   ]
  },
  {
   "cell_type": "code",
   "execution_count": 3,
   "metadata": {
    "scrolled": true
   },
   "outputs": [
    {
     "name": "stdout",
     "output_type": "stream",
     "text": [
      "C:\\Users\\91728\\desktop\\ibmhc\\project\\data\n"
     ]
    }
   ],
   "source": [
    "cd desktop/ibmhc/project/data"
   ]
  },
  {
   "cell_type": "code",
   "execution_count": 4,
   "metadata": {},
   "outputs": [
    {
     "data": {
      "text/plain": [
       "'C:\\\\Users\\\\91728\\\\desktop\\\\ibmhc\\\\project\\\\data'"
      ]
     },
     "execution_count": 4,
     "metadata": {},
     "output_type": "execute_result"
    }
   ],
   "source": [
    "pwd\n"
   ]
  },
  {
   "cell_type": "code",
   "execution_count": 536,
   "metadata": {},
   "outputs": [],
   "source": [
    "cols = ['date', 'tot', 'pos', 'neg', 'neut', 'avg']\n",
    "df_day = pd.DataFrame(columns = cols, index=None)\n",
    "\n",
    "df_day.to_csv(\"day_wise.csv\", index=None)"
   ]
  },
  {
   "cell_type": "code",
   "execution_count": 537,
   "metadata": {},
   "outputs": [],
   "source": [
    "col_new = ['date', 'tid']\n",
    "df_tweets = pd.DataFrame(columns = col_new, index=None)\n",
    "\n",
    "df_tweets.to_csv('tweets_pid.csv', index=None)\n",
    "df_tweets.to_csv('tweets_nid.csv', index=None)"
   ]
  },
  {
   "cell_type": "code",
   "execution_count": 110,
   "metadata": {},
   "outputs": [
    {
     "data": {
      "text/html": [
       "<div>\n",
       "<style scoped>\n",
       "    .dataframe tbody tr th:only-of-type {\n",
       "        vertical-align: middle;\n",
       "    }\n",
       "\n",
       "    .dataframe tbody tr th {\n",
       "        vertical-align: top;\n",
       "    }\n",
       "\n",
       "    .dataframe thead th {\n",
       "        text-align: right;\n",
       "    }\n",
       "</style>\n",
       "<table border=\"1\" class=\"dataframe\">\n",
       "  <thead>\n",
       "    <tr style=\"text-align: right;\">\n",
       "      <th></th>\n",
       "      <th>tid</th>\n",
       "      <th>sent</th>\n",
       "    </tr>\n",
       "  </thead>\n",
       "  <tbody>\n",
       "    <tr>\n",
       "      <td>0</td>\n",
       "      <td>1282169216280358912</td>\n",
       "      <td>-0.262500</td>\n",
       "    </tr>\n",
       "    <tr>\n",
       "      <td>1</td>\n",
       "      <td>1282169216259391490</td>\n",
       "      <td>0.000000</td>\n",
       "    </tr>\n",
       "    <tr>\n",
       "      <td>2</td>\n",
       "      <td>1282169216339238912</td>\n",
       "      <td>0.000000</td>\n",
       "    </tr>\n",
       "    <tr>\n",
       "      <td>3</td>\n",
       "      <td>1282169216016277504</td>\n",
       "      <td>0.000000</td>\n",
       "    </tr>\n",
       "    <tr>\n",
       "      <td>4</td>\n",
       "      <td>1282169216674586624</td>\n",
       "      <td>-0.125000</td>\n",
       "    </tr>\n",
       "    <tr>\n",
       "      <td>...</td>\n",
       "      <td>...</td>\n",
       "      <td>...</td>\n",
       "    </tr>\n",
       "    <tr>\n",
       "      <td>3902388</td>\n",
       "      <td>1282531437716152320</td>\n",
       "      <td>0.000000</td>\n",
       "    </tr>\n",
       "    <tr>\n",
       "      <td>3902389</td>\n",
       "      <td>1282531437741318146</td>\n",
       "      <td>0.000000</td>\n",
       "    </tr>\n",
       "    <tr>\n",
       "      <td>3902390</td>\n",
       "      <td>1282531437892169728</td>\n",
       "      <td>0.000000</td>\n",
       "    </tr>\n",
       "    <tr>\n",
       "      <td>3902391</td>\n",
       "      <td>1282531437925851141</td>\n",
       "      <td>-0.300000</td>\n",
       "    </tr>\n",
       "    <tr>\n",
       "      <td>3902392</td>\n",
       "      <td>1282531438026346502</td>\n",
       "      <td>-0.035714</td>\n",
       "    </tr>\n",
       "  </tbody>\n",
       "</table>\n",
       "<p>3902393 rows × 2 columns</p>\n",
       "</div>"
      ],
      "text/plain": [
       "                         tid      sent\n",
       "0        1282169216280358912 -0.262500\n",
       "1        1282169216259391490  0.000000\n",
       "2        1282169216339238912  0.000000\n",
       "3        1282169216016277504  0.000000\n",
       "4        1282169216674586624 -0.125000\n",
       "...                      ...       ...\n",
       "3902388  1282531437716152320  0.000000\n",
       "3902389  1282531437741318146  0.000000\n",
       "3902390  1282531437892169728  0.000000\n",
       "3902391  1282531437925851141 -0.300000\n",
       "3902392  1282531438026346502 -0.035714\n",
       "\n",
       "[3902393 rows x 2 columns]"
      ]
     },
     "execution_count": 110,
     "metadata": {},
     "output_type": "execute_result"
    }
   ],
   "source": [
    "path = r'datasets/corona_tweets_116.zip'\n",
    "df = pd.read_csv(path, names = ['tid', 'sent'])\n",
    "df.dropna()"
   ]
  },
  {
   "cell_type": "code",
   "execution_count": 111,
   "metadata": {},
   "outputs": [],
   "source": [
    "df.insert(0, 'date', '07.12.2020')\n",
    "df['date'] = pd.to_datetime(df['date'])\n",
    "df['date'] = df['date'].dt.date"
   ]
  },
  {
   "cell_type": "code",
   "execution_count": 112,
   "metadata": {},
   "outputs": [],
   "source": [
    "#cols = ['date', 'tot', 'pos', 'neg', 'neut', 'avg']\n",
    "#df_day = pd.DataFrame(columns = cols, index=None)\n",
    "\n",
    "fname = 'day_wise.csv'\n",
    "df_day = pd.read_csv(fname)"
   ]
  },
  {
   "cell_type": "code",
   "execution_count": 113,
   "metadata": {
    "scrolled": true
   },
   "outputs": [],
   "source": [
    "avg = df.sent.mean()\n",
    "tot = df.sent.count()\n",
    "pos = df.query('sent>=0.2').sent.count()\n",
    "neg = df.query('sent<=-0.2').sent.count()\n",
    "neut = tot-(pos+neg)\n",
    "date = df.iloc[0]['date']\n"
   ]
  },
  {
   "cell_type": "code",
   "execution_count": 114,
   "metadata": {},
   "outputs": [],
   "source": [
    "temp = {'date': date,\n",
    "       'tot': tot,\n",
    "       'avg': avg,\n",
    "       'pos': pos,\n",
    "       'neg': neg,\n",
    "       'neut': neut,\n",
    "        }\n",
    "df_day = df_day.append(temp, ignore_index=True)\n"
   ]
  },
  {
   "cell_type": "code",
   "execution_count": 115,
   "metadata": {},
   "outputs": [
    {
     "data": {
      "text/html": [
       "<div>\n",
       "<style scoped>\n",
       "    .dataframe tbody tr th:only-of-type {\n",
       "        vertical-align: middle;\n",
       "    }\n",
       "\n",
       "    .dataframe tbody tr th {\n",
       "        vertical-align: top;\n",
       "    }\n",
       "\n",
       "    .dataframe thead th {\n",
       "        text-align: right;\n",
       "    }\n",
       "</style>\n",
       "<table border=\"1\" class=\"dataframe\">\n",
       "  <thead>\n",
       "    <tr style=\"text-align: right;\">\n",
       "      <th></th>\n",
       "      <th>date</th>\n",
       "      <th>tot</th>\n",
       "      <th>pos</th>\n",
       "      <th>neg</th>\n",
       "      <th>neut</th>\n",
       "      <th>avg</th>\n",
       "    </tr>\n",
       "  </thead>\n",
       "  <tbody>\n",
       "    <tr>\n",
       "      <td>108</td>\n",
       "      <td>2020-07-08</td>\n",
       "      <td>4032945</td>\n",
       "      <td>862305</td>\n",
       "      <td>479956</td>\n",
       "      <td>2690684</td>\n",
       "      <td>0.040851</td>\n",
       "    </tr>\n",
       "    <tr>\n",
       "      <td>109</td>\n",
       "      <td>2020-07-09</td>\n",
       "      <td>3912560</td>\n",
       "      <td>824698</td>\n",
       "      <td>450517</td>\n",
       "      <td>2637345</td>\n",
       "      <td>0.038665</td>\n",
       "    </tr>\n",
       "    <tr>\n",
       "      <td>110</td>\n",
       "      <td>2020-07-10</td>\n",
       "      <td>4024227</td>\n",
       "      <td>864726</td>\n",
       "      <td>466334</td>\n",
       "      <td>2693167</td>\n",
       "      <td>0.044398</td>\n",
       "    </tr>\n",
       "    <tr>\n",
       "      <td>111</td>\n",
       "      <td>2020-07-11</td>\n",
       "      <td>3746316</td>\n",
       "      <td>875810</td>\n",
       "      <td>403853</td>\n",
       "      <td>2466653</td>\n",
       "      <td>0.052422</td>\n",
       "    </tr>\n",
       "    <tr>\n",
       "      <td>112</td>\n",
       "      <td>2020-07-12</td>\n",
       "      <td>3902393</td>\n",
       "      <td>923767</td>\n",
       "      <td>396257</td>\n",
       "      <td>2582369</td>\n",
       "      <td>0.056849</td>\n",
       "    </tr>\n",
       "  </tbody>\n",
       "</table>\n",
       "</div>"
      ],
      "text/plain": [
       "           date      tot     pos     neg     neut       avg\n",
       "108  2020-07-08  4032945  862305  479956  2690684  0.040851\n",
       "109  2020-07-09  3912560  824698  450517  2637345  0.038665\n",
       "110  2020-07-10  4024227  864726  466334  2693167  0.044398\n",
       "111  2020-07-11  3746316  875810  403853  2466653  0.052422\n",
       "112  2020-07-12  3902393  923767  396257  2582369  0.056849"
      ]
     },
     "execution_count": 115,
     "metadata": {},
     "output_type": "execute_result"
    }
   ],
   "source": [
    "df_day.tail()"
   ]
  },
  {
   "cell_type": "code",
   "execution_count": 116,
   "metadata": {},
   "outputs": [],
   "source": [
    "df_day.to_csv(fname, index=None)"
   ]
  },
  {
   "cell_type": "code",
   "execution_count": 117,
   "metadata": {},
   "outputs": [],
   "source": [
    "#col_new = ['date', 'tid']\n",
    "#df_tweets = pd.DataFrame(columns = col_new, index=None)\n",
    "\n",
    "fnamepos = 'tweets_pid.csv'\n",
    "fnameneg = 'tweets_nid.csv'\n",
    "dfpos = pd.read_csv(fnamepos)\n",
    "dfneg = pd.read_csv(fnameneg)"
   ]
  },
  {
   "cell_type": "code",
   "execution_count": 118,
   "metadata": {},
   "outputs": [],
   "source": [
    "dfpos = df.nlargest(20, 'sent')\n",
    "dfneg = df.nsmallest(20, 'sent')\n"
   ]
  },
  {
   "cell_type": "code",
   "execution_count": 119,
   "metadata": {},
   "outputs": [],
   "source": [
    "dfpos = dfpos.drop(['sent'], axis=1)\n",
    "dfneg = dfneg.drop(['sent'], axis=1)\n"
   ]
  },
  {
   "cell_type": "code",
   "execution_count": 120,
   "metadata": {},
   "outputs": [],
   "source": [
    "dfpos.to_csv(fnamepos, mode='a', index=None, header=False)\n",
    "dfneg.to_csv(fnameneg, mode='a', index=None, header=False)"
   ]
  },
  {
   "cell_type": "code",
   "execution_count": null,
   "metadata": {},
   "outputs": [],
   "source": []
  },
  {
   "cell_type": "code",
   "execution_count": 121,
   "metadata": {},
   "outputs": [],
   "source": [
    "fname = 'day_wise.csv'\n",
    "df_day = pd.read_csv(fname)"
   ]
  },
  {
   "cell_type": "code",
   "execution_count": 122,
   "metadata": {},
   "outputs": [
    {
     "data": {
      "text/html": [
       "<div>\n",
       "<style scoped>\n",
       "    .dataframe tbody tr th:only-of-type {\n",
       "        vertical-align: middle;\n",
       "    }\n",
       "\n",
       "    .dataframe tbody tr th {\n",
       "        vertical-align: top;\n",
       "    }\n",
       "\n",
       "    .dataframe thead th {\n",
       "        text-align: right;\n",
       "    }\n",
       "</style>\n",
       "<table border=\"1\" class=\"dataframe\">\n",
       "  <thead>\n",
       "    <tr style=\"text-align: right;\">\n",
       "      <th></th>\n",
       "      <th>date</th>\n",
       "      <th>tot</th>\n",
       "      <th>pos</th>\n",
       "      <th>neg</th>\n",
       "      <th>neut</th>\n",
       "      <th>avg</th>\n",
       "      <th>p/n</th>\n",
       "    </tr>\n",
       "  </thead>\n",
       "  <tbody>\n",
       "    <tr>\n",
       "      <td>0</td>\n",
       "      <td>3/21/2020</td>\n",
       "      <td>1233340</td>\n",
       "      <td>285733</td>\n",
       "      <td>195351</td>\n",
       "      <td>752256</td>\n",
       "      <td>0.027722</td>\n",
       "      <td>1.462665</td>\n",
       "    </tr>\n",
       "    <tr>\n",
       "      <td>1</td>\n",
       "      <td>3/22/2020</td>\n",
       "      <td>1782157</td>\n",
       "      <td>429789</td>\n",
       "      <td>273338</td>\n",
       "      <td>1079030</td>\n",
       "      <td>0.043513</td>\n",
       "      <td>1.572372</td>\n",
       "    </tr>\n",
       "    <tr>\n",
       "      <td>2</td>\n",
       "      <td>3/23/2020</td>\n",
       "      <td>1771295</td>\n",
       "      <td>335903</td>\n",
       "      <td>236651</td>\n",
       "      <td>1198741</td>\n",
       "      <td>0.020968</td>\n",
       "      <td>1.419402</td>\n",
       "    </tr>\n",
       "    <tr>\n",
       "      <td>3</td>\n",
       "      <td>3/24/2020</td>\n",
       "      <td>1479651</td>\n",
       "      <td>287335</td>\n",
       "      <td>196361</td>\n",
       "      <td>995955</td>\n",
       "      <td>0.025657</td>\n",
       "      <td>1.463300</td>\n",
       "    </tr>\n",
       "    <tr>\n",
       "      <td>4</td>\n",
       "      <td>3/25/2020</td>\n",
       "      <td>1272592</td>\n",
       "      <td>264651</td>\n",
       "      <td>176929</td>\n",
       "      <td>831012</td>\n",
       "      <td>0.032868</td>\n",
       "      <td>1.495803</td>\n",
       "    </tr>\n",
       "    <tr>\n",
       "      <td>...</td>\n",
       "      <td>...</td>\n",
       "      <td>...</td>\n",
       "      <td>...</td>\n",
       "      <td>...</td>\n",
       "      <td>...</td>\n",
       "      <td>...</td>\n",
       "      <td>...</td>\n",
       "    </tr>\n",
       "    <tr>\n",
       "      <td>108</td>\n",
       "      <td>2020-07-08</td>\n",
       "      <td>4032945</td>\n",
       "      <td>862305</td>\n",
       "      <td>479956</td>\n",
       "      <td>2690684</td>\n",
       "      <td>0.040851</td>\n",
       "      <td>1.796633</td>\n",
       "    </tr>\n",
       "    <tr>\n",
       "      <td>109</td>\n",
       "      <td>2020-07-09</td>\n",
       "      <td>3912560</td>\n",
       "      <td>824698</td>\n",
       "      <td>450517</td>\n",
       "      <td>2637345</td>\n",
       "      <td>0.038665</td>\n",
       "      <td>1.830559</td>\n",
       "    </tr>\n",
       "    <tr>\n",
       "      <td>110</td>\n",
       "      <td>2020-07-10</td>\n",
       "      <td>4024227</td>\n",
       "      <td>864726</td>\n",
       "      <td>466334</td>\n",
       "      <td>2693167</td>\n",
       "      <td>0.044398</td>\n",
       "      <td>1.854306</td>\n",
       "    </tr>\n",
       "    <tr>\n",
       "      <td>111</td>\n",
       "      <td>2020-07-11</td>\n",
       "      <td>3746316</td>\n",
       "      <td>875810</td>\n",
       "      <td>403853</td>\n",
       "      <td>2466653</td>\n",
       "      <td>0.052422</td>\n",
       "      <td>2.168636</td>\n",
       "    </tr>\n",
       "    <tr>\n",
       "      <td>112</td>\n",
       "      <td>2020-07-12</td>\n",
       "      <td>3902393</td>\n",
       "      <td>923767</td>\n",
       "      <td>396257</td>\n",
       "      <td>2582369</td>\n",
       "      <td>0.056849</td>\n",
       "      <td>2.331232</td>\n",
       "    </tr>\n",
       "  </tbody>\n",
       "</table>\n",
       "<p>113 rows × 7 columns</p>\n",
       "</div>"
      ],
      "text/plain": [
       "           date      tot     pos     neg     neut       avg       p/n\n",
       "0     3/21/2020  1233340  285733  195351   752256  0.027722  1.462665\n",
       "1     3/22/2020  1782157  429789  273338  1079030  0.043513  1.572372\n",
       "2     3/23/2020  1771295  335903  236651  1198741  0.020968  1.419402\n",
       "3     3/24/2020  1479651  287335  196361   995955  0.025657  1.463300\n",
       "4     3/25/2020  1272592  264651  176929   831012  0.032868  1.495803\n",
       "..          ...      ...     ...     ...      ...       ...       ...\n",
       "108  2020-07-08  4032945  862305  479956  2690684  0.040851  1.796633\n",
       "109  2020-07-09  3912560  824698  450517  2637345  0.038665  1.830559\n",
       "110  2020-07-10  4024227  864726  466334  2693167  0.044398  1.854306\n",
       "111  2020-07-11  3746316  875810  403853  2466653  0.052422  2.168636\n",
       "112  2020-07-12  3902393  923767  396257  2582369  0.056849  2.331232\n",
       "\n",
       "[113 rows x 7 columns]"
      ]
     },
     "execution_count": 122,
     "metadata": {},
     "output_type": "execute_result"
    }
   ],
   "source": [
    "df_day['p/n'] = df_day['pos']/df_day['neg']\n",
    "df_day"
   ]
  },
  {
   "cell_type": "code",
   "execution_count": 123,
   "metadata": {},
   "outputs": [],
   "source": [
    "df_day.to_csv(fname, index=None)"
   ]
  },
  {
   "cell_type": "code",
   "execution_count": null,
   "metadata": {},
   "outputs": [],
   "source": []
  }
 ],
 "metadata": {
  "kernelspec": {
   "display_name": "Python 3",
   "language": "python",
   "name": "python3"
  },
  "language_info": {
   "codemirror_mode": {
    "name": "ipython",
    "version": 3
   },
   "file_extension": ".py",
   "mimetype": "text/x-python",
   "name": "python",
   "nbconvert_exporter": "python",
   "pygments_lexer": "ipython3",
   "version": "3.7.4"
  }
 },
 "nbformat": 4,
 "nbformat_minor": 2
}
